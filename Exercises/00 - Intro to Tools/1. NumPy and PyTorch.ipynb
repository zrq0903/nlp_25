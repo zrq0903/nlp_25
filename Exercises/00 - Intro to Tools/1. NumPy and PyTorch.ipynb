{
 "cells": [
  {
   "cell_type": "markdown",
   "id": "4d118325",
   "metadata": {},
   "source": [
    "# NumPy and PyTorch"
   ]
  },
  {
   "cell_type": "markdown",
   "id": "4d8abd01",
   "metadata": {},
   "source": [
    "## NumPy"
   ]
  },
  {
   "cell_type": "markdown",
   "id": "8ea70b08",
   "metadata": {},
   "source": [
    "🧠 What is NumPy?\n",
    "\n",
    "**NumPy** (short for Numerical Python) is a powerful Python library used for:\n",
    "\n",
    "- Fast numerical computations.\n",
    "\n",
    "- Working with large arrays and matrices.\n",
    "\n",
    "- Vectorized operations (faster than Python loops).\n",
    "\n",
    "🛠️ Installing NumPy\n",
    "If you're using pip, you can install NumPy like this:\n",
    "```bash\n",
    "pip install numpy\n",
    "```\n",
    "\n",
    "If you're in a Jupyter Notebook:\n",
    "```python\n",
    "!pip install numpy\n",
    "```\n",
    "\n",
    "✅ Why Use NumPy Instead of Lists? \n",
    "\n",
    "- Cleaner.\n",
    "\n",
    "- Faster.\n",
    "\n",
    "- More efficient for large data."
   ]
  },
  {
   "cell_type": "markdown",
   "id": "19758f73",
   "metadata": {},
   "source": [
    "### 🔢 Creating arrays in NumPy"
   ]
  },
  {
   "cell_type": "code",
   "id": "12860e6e",
   "metadata": {
    "ExecuteTime": {
     "end_time": "2025-08-29T07:34:39.642805Z",
     "start_time": "2025-08-29T07:34:39.547080Z"
    }
   },
   "source": [
    "import numpy as np\n",
    "\n",
    "# 1. Creating arrays from lists\n",
    "arr1 = np.array([1, 2, 3, 4])                  # 1D array\n",
    "arr2 = np.array([[1, 2, 3], [4, 5, 6]])        # 2D array\n",
    "\n",
    "# 2. Predefined arrays\n",
    "zeros = np.zeros((2, 3))                      # 2x3 array of zeros\n",
    "ones = np.ones((2, 3))                        # 2x3 array of ones\n",
    "full = np.full((2, 2), 7)                     # 2x2 array filled with 7s\n",
    "empty = np.empty((2, 2))                      # 2x2 array with uninitialized values\n",
    "\n",
    "# 3. Ranges and sequences\n",
    "ar = np.arange(0, 10, 2)                      # Array from 0 to 8, step 2\n",
    "lin = np.linspace(0, 1, 5)                    # 5 values evenly spaced from 0 to 1\n",
    "\n",
    "# 4. Identity matrix\n",
    "identity = np.eye(3)                         # 3x3 identity matrix\n",
    "\n",
    "# 5. Print all arrays with clear formatting\n",
    "print(\"=== 1. Arrays from Lists ===\")\n",
    "print(\"1D array:\", arr1)\n",
    "print(\"2D array:\\n\", arr2)\n",
    "\n",
    "print(\"\\n=== 2. Predefined Arrays ===\")\n",
    "print(\"Zeros:\\n\", zeros)\n",
    "print(\"Ones:\\n\", ones)\n",
    "print(\"Full (7s):\\n\", full)\n",
    "print(\"Empty (uninitialized):\\n\", empty)\n",
    "\n",
    "print(\"\\n=== 3. Sequences ===\")\n",
    "print(\"Arange:\", ar)\n",
    "print(\"Linspace:\", lin)\n",
    "\n",
    "print(\"\\n=== 4. Identity Matrix ===\")\n",
    "print(identity)"
   ],
   "outputs": [
    {
     "name": "stdout",
     "output_type": "stream",
     "text": [
      "=== 1. Arrays from Lists ===\n",
      "1D array: [1 2 3 4]\n",
      "2D array:\n",
      " [[1 2 3]\n",
      " [4 5 6]]\n",
      "\n",
      "=== 2. Predefined Arrays ===\n",
      "Zeros:\n",
      " [[0. 0. 0.]\n",
      " [0. 0. 0.]]\n",
      "Ones:\n",
      " [[1. 1. 1.]\n",
      " [1. 1. 1.]]\n",
      "Full (7s):\n",
      " [[7 7]\n",
      " [7 7]]\n",
      "Empty (uninitialized):\n",
      " [[0. 0.]\n",
      " [0. 0.]]\n",
      "\n",
      "=== 3. Sequences ===\n",
      "Arange: [0 2 4 6 8]\n",
      "Linspace: [0.   0.25 0.5  0.75 1.  ]\n",
      "\n",
      "=== 4. Identity Matrix ===\n",
      "[[1. 0. 0.]\n",
      " [0. 1. 0.]\n",
      " [0. 0. 1.]]\n"
     ]
    }
   ],
   "execution_count": 1
  },
  {
   "metadata": {
    "ExecuteTime": {
     "end_time": "2025-08-29T07:32:52.562393Z",
     "start_time": "2025-08-29T07:32:52.559423Z"
    }
   },
   "cell_type": "code",
   "source": [
    "import sys\n",
    "print(sys.executable)\n"
   ],
   "id": "bdf9d5ad917262bb",
   "outputs": [
    {
     "name": "stdout",
     "output_type": "stream",
     "text": [
      "/Users/richardzhang/miniconda3/bin/python\n"
     ]
    }
   ],
   "execution_count": 3
  },
  {
   "cell_type": "markdown",
   "id": "d2b8f35b",
   "metadata": {},
   "source": [
    "### 🔍 Array Attributes"
   ]
  },
  {
   "cell_type": "code",
   "id": "67cefd7c",
   "metadata": {
    "ExecuteTime": {
     "end_time": "2025-08-29T07:35:53.207736Z",
     "start_time": "2025-08-29T07:35:53.202457Z"
    }
   },
   "source": [
    "import numpy as np\n",
    "\n",
    "# Create some sample arrays\n",
    "a = np.array([10, 20, 30])\n",
    "b = np.array([[1, 2, 3], [4, 5, 6]])\n",
    "c = np.array([[[1], [2]], [[3], [4]]])  # 3D array\n",
    "\n",
    "# Print array attributes\n",
    "print(\"=== 1. Array 'a' (1D) ===\")\n",
    "print(\"Array:\", a)\n",
    "print(\"Dimensions (ndim):\", a.ndim)\n",
    "print(\"Shape:\", a.shape)\n",
    "print(\"Size:\", a.size)\n",
    "print(\"Data type (dtype):\", a.dtype)\n",
    "\n",
    "print(\"\\n=== 2. Array 'b' (2D) ===\")\n",
    "print(\"Array:\\n\", b)\n",
    "print(\"Dimensions:\", b.ndim)\n",
    "print(\"Shape:\", b.shape)\n",
    "print(\"Size:\", b.size)\n",
    "print(\"Dtype:\", b.dtype)\n",
    "\n",
    "print(\"\\n=== 3. Array 'c' (3D) ===\")\n",
    "print(\"Array:\\n\", c)\n",
    "print(\"Dimensions:\", c.ndim)\n",
    "print(\"Shape:\", c.shape)\n",
    "print(\"Size:\", c.size)\n",
    "print(\"Dtype:\", c.dtype)\n"
   ],
   "outputs": [
    {
     "name": "stdout",
     "output_type": "stream",
     "text": [
      "=== 1. Array 'a' (1D) ===\n",
      "Array: [10 20 30]\n",
      "Dimensions (ndim): 1\n",
      "Shape: (3,)\n",
      "Size: 3\n",
      "Data type (dtype): int64\n",
      "\n",
      "=== 2. Array 'b' (2D) ===\n",
      "Array:\n",
      " [[1 2 3]\n",
      " [4 5 6]]\n",
      "Dimensions: 2\n",
      "Shape: (2, 3)\n",
      "Size: 6\n",
      "Dtype: int64\n",
      "\n",
      "=== 3. Array 'c' (3D) ===\n",
      "Array:\n",
      " [[[1]\n",
      "  [2]]\n",
      "\n",
      " [[3]\n",
      "  [4]]]\n",
      "Dimensions: 3\n",
      "Shape: (2, 2, 1)\n",
      "Size: 4\n",
      "Dtype: int64\n"
     ]
    }
   ],
   "execution_count": 2
  },
  {
   "cell_type": "markdown",
   "id": "406d2c08",
   "metadata": {},
   "source": [
    "### ✂️ Indexing and Slicing"
   ]
  },
  {
   "cell_type": "code",
   "id": "6bd0eee2",
   "metadata": {
    "ExecuteTime": {
     "end_time": "2025-08-29T07:36:21.487576Z",
     "start_time": "2025-08-29T07:36:21.482056Z"
    }
   },
   "source": [
    "import numpy as np\n",
    "\n",
    "# Sample arrays\n",
    "a = np.array([10, 20, 30, 40, 50])\n",
    "b = np.array([[1, 2, 3], [4, 5, 6], [7, 8, 9]])\n",
    "\n",
    "# 1D Indexing and Slicing\n",
    "print(\"a[0]:\", a[0])           # First element\n",
    "print(\"a[-1]:\", a[-1])         # Last element\n",
    "print(\"a[1:4]:\", a[1:4])       # Slice\n",
    "print(\"a[::2]:\", a[::2])       # Every other element\n",
    "\n",
    "# 2D Indexing and Slicing\n",
    "print(\"b[0, 1]:\", b[0, 1])          # Specific element\n",
    "print(\"b[:, 0]:\", b[:, 0])          # First column\n",
    "print(\"b[0, :]:\", b[0, :])          # First row\n",
    "print(\"b[:2, :2]:\\n\", b[:2, :2])    # 2x2 top-left\n",
    "\n",
    "# Fancy Indexing\n",
    "print(\"b[[0, 2], [1, 2]]:\", b[[0, 2], [1, 2]])  # b[0,1] and b[2,2]\n",
    "\n",
    "# Boolean Masking\n",
    "print(\"a[a > 25]:\", a[a > 25])  # Filtered values\n"
   ],
   "outputs": [
    {
     "name": "stdout",
     "output_type": "stream",
     "text": [
      "a[0]: 10\n",
      "a[-1]: 50\n",
      "a[1:4]: [20 30 40]\n",
      "a[::2]: [10 30 50]\n",
      "b[0, 1]: 2\n",
      "b[:, 0]: [1 4 7]\n",
      "b[0, :]: [1 2 3]\n",
      "b[:2, :2]:\n",
      " [[1 2]\n",
      " [4 5]]\n",
      "b[[0, 2], [1, 2]]: [2 9]\n",
      "a[a > 25]: [30 40 50]\n"
     ]
    }
   ],
   "execution_count": 3
  },
  {
   "cell_type": "markdown",
   "id": "20288d6c",
   "metadata": {},
   "source": [
    "### 🧮 Array operations"
   ]
  },
  {
   "cell_type": "code",
   "id": "5479c59f",
   "metadata": {
    "ExecuteTime": {
     "end_time": "2025-08-29T07:37:45.573683Z",
     "start_time": "2025-08-29T07:37:45.568490Z"
    }
   },
   "source": [
    "import numpy as np\n",
    "\n",
    "# Arrays for operation\n",
    "a = np.array([1, 2, 3])\n",
    "b = np.array([4, 5, 6])\n",
    "\n",
    "# Element-wise arithmetic\n",
    "print(\"a + b:\", a + b)\n",
    "print(\"a * b:\", a * b)\n",
    "print(\"a ** 2:\", a ** 2)\n",
    "\n",
    "# Comparison and logic\n",
    "print(\"a > 1:\", a > 1)\n",
    "print(\"(a > 1) & (b < 6):\", (a > 1) & (b < 6))\n",
    "\n",
    "# Aggregate functions\n",
    "print(\"sum of a:\", np.sum(a))\n",
    "print(\"mean of b:\", np.mean(b))\n",
    "print(\"max of a:\", np.max(a))\n"
   ],
   "outputs": [
    {
     "name": "stdout",
     "output_type": "stream",
     "text": [
      "a + b: [5 7 9]\n",
      "a * b: [ 4 10 18]\n",
      "a ** 2: [1 4 9]\n",
      "a > 1: [False  True  True]\n",
      "(a > 1) & (b < 6): [False  True False]\n",
      "sum of a: 6\n",
      "mean of b: 5.0\n",
      "max of a: 3\n"
     ]
    }
   ],
   "execution_count": 4
  },
  {
   "cell_type": "markdown",
   "id": "a480fff8",
   "metadata": {},
   "source": [
    "### 🔁 Reshaping and Resizing"
   ]
  },
  {
   "cell_type": "code",
   "id": "6066e62f",
   "metadata": {
    "ExecuteTime": {
     "end_time": "2025-08-29T07:37:56.678726Z",
     "start_time": "2025-08-29T07:37:56.674445Z"
    }
   },
   "source": [
    "import numpy as np\n",
    "\n",
    "# Original array\n",
    "a = np.arange(1, 7)  # [1 2 3 4 5 6]\n",
    "\n",
    "# Reshaping\n",
    "reshaped = a.reshape((2, 3))      # 2 rows, 3 columns\n",
    "flattened = reshaped.ravel()      # Flattens without copy\n",
    "copied_flat = reshaped.flatten()  # Flattens with copy\n",
    "\n",
    "# Transposing\n",
    "transposed = reshaped.T         # Swaps rows and columns\n",
    "\n",
    "# Expanding dimensions\n",
    "row_vec = a[np.newaxis, :]      # From 1D to 2D row\n",
    "col_vec = a[:, np.newaxis]      # From 1D to 2D column\n",
    "\n",
    "# Print results\n",
    "print(\"Original:\", a)\n",
    "print(\"Reshaped (2x3):\\n\", reshaped)\n",
    "print(\"Flattened (view):\", flattened)\n",
    "print(\"Flattened (copy):\", copied_flat)\n",
    "print(\"Transposed:\\n\", transposed)\n",
    "print(\"Row vector shape:\", row_vec.shape)\n",
    "print(\"Column vector shape:\", col_vec.shape)\n"
   ],
   "outputs": [
    {
     "name": "stdout",
     "output_type": "stream",
     "text": [
      "Original: [1 2 3 4 5 6]\n",
      "Reshaped (2x3):\n",
      " [[1 2 3]\n",
      " [4 5 6]]\n",
      "Flattened (view): [1 2 3 4 5 6]\n",
      "Flattened (copy): [1 2 3 4 5 6]\n",
      "Transposed:\n",
      " [[1 4]\n",
      " [2 5]\n",
      " [3 6]]\n",
      "Row vector shape: (1, 6)\n",
      "Column vector shape: (6, 1)\n"
     ]
    }
   ],
   "execution_count": 5
  },
  {
   "cell_type": "markdown",
   "id": "c9555bfa",
   "metadata": {},
   "source": [
    "### 📐 Mathematical functions"
   ]
  },
  {
   "cell_type": "code",
   "id": "e45d3f37",
   "metadata": {
    "ExecuteTime": {
     "end_time": "2025-08-29T07:39:44.395559Z",
     "start_time": "2025-08-29T07:39:44.391122Z"
    }
   },
   "source": [
    "import numpy as np\n",
    "\n",
    "# Sample data\n",
    "a = np.array([1, 2, 3, 4])\n",
    "b = np.array([0.1, 0.2, 0.3, 0.4])\n",
    "\n",
    "# Element-wise math functions\n",
    "print(\"Square root:\", np.sqrt(a))\n",
    "print(\"Exponential:\", np.exp(a))\n",
    "print(\"Natural log:\", np.log(a))\n",
    "\n",
    "# Trigonometric functions (in radians)\n",
    "print(\"Sine:\", np.sin(b))\n",
    "print(\"Cosine:\", np.cos(b))\n",
    "print(\"Tangent:\", np.tan(b))\n",
    "\n",
    "# Matrix multiplication\n",
    "m1 = np.array([[1, 2], [3, 4]])\n",
    "m2 = np.array([[5, 6], [7, 8]])\n",
    "\n",
    "print(\"Matrix product:\\n\", np.dot(m1, m2))  # or m1 @ m2\n"
   ],
   "outputs": [
    {
     "name": "stdout",
     "output_type": "stream",
     "text": [
      "Square root: [1.         1.41421356 1.73205081 2.        ]\n",
      "Exponential: [ 2.71828183  7.3890561  20.08553692 54.59815003]\n",
      "Natural log: [0.         0.69314718 1.09861229 1.38629436]\n",
      "Sine: [0.09983342 0.19866933 0.29552021 0.38941834]\n",
      "Cosine: [0.99500417 0.98006658 0.95533649 0.92106099]\n",
      "Tangent: [0.10033467 0.20271004 0.30933625 0.42279322]\n",
      "Matrix product:\n",
      " [[19 22]\n",
      " [43 50]]\n"
     ]
    }
   ],
   "execution_count": 6
  },
  {
   "cell_type": "markdown",
   "id": "6b6c47b1",
   "metadata": {},
   "source": [
    "### 🎭 Filtering and Masking"
   ]
  },
  {
   "cell_type": "code",
   "id": "053b9b39",
   "metadata": {
    "ExecuteTime": {
     "end_time": "2025-08-29T07:41:42.476093Z",
     "start_time": "2025-08-29T07:41:42.470600Z"
    }
   },
   "source": [
    "import numpy as np\n",
    "\n",
    "# Sample array\n",
    "data = np.array([12, 7, 5, 19, 3, 14, 8])\n",
    "\n",
    "# Basic filtering\n",
    "greater_than_10 = data[data > 10]                  # values > 10\n",
    "\n",
    "# Combining conditions\n",
    "between_5_and_15 = data[(data >= 5) & (data <= 15)]\n",
    "outside_range = data[(data < 5) | (data > 15)]\n",
    "\n",
    "# Using np.where to get indices\n",
    "indices = np.where(data > 10)                      # positions of values > 10\n",
    "\n",
    "# Using np.where to replace values\n",
    "replaced = np.where(data > 10, -1, data)          # replace with -1 if > 10, else keep\n",
    "\n",
    "# Print outputs\n",
    "print(\"Original:\", data)\n",
    "print(\"Values > 10:\", greater_than_10)\n",
    "print(\"Between 5 and 15:\", between_5_and_15)\n",
    "print(\"Outside 5–15:\", outside_range)\n",
    "print(\"Indices of values > 10:\", indices)\n",
    "print(\"Replace >10 with 100:\", replaced)\n"
   ],
   "outputs": [
    {
     "name": "stdout",
     "output_type": "stream",
     "text": [
      "Original: [12  7  5 19  3 14  8]\n",
      "Values > 10: [12 19 14]\n",
      "Between 5 and 15: [12  7  5 14  8]\n",
      "Outside 5–15: [19  3]\n",
      "Indices of values > 10: (array([0, 3, 5]),)\n",
      "Replace >10 with 100: [-1  7  5 -1  3 -1  8]\n"
     ]
    }
   ],
   "execution_count": 7
  },
  {
   "cell_type": "markdown",
   "id": "4ad156f5",
   "metadata": {},
   "source": [
    "### 🎲 Random Module"
   ]
  },
  {
   "cell_type": "code",
   "id": "74910135",
   "metadata": {
    "ExecuteTime": {
     "end_time": "2025-08-29T07:41:58.835866Z",
     "start_time": "2025-08-29T07:41:58.809575Z"
    }
   },
   "source": [
    "import numpy as np\n",
    "\n",
    "# Set seed for reproducibility\n",
    "np.random.seed(42)\n",
    "\n",
    "# 1. Random values\n",
    "rand_uniform = np.random.rand(3, 2)         # Uniform [0, 1), shape (3, 2)\n",
    "rand_normal = np.random.randn(4)            # Standard normal distribution (mean=0, std=1)\n",
    "rand_ints = np.random.randint(1, 10, size=5)  # 5 integers from [1, 10)\n",
    "\n",
    "# 2. Random choice\n",
    "cities = [\"Copenhagen\", \"Aarhus\", \"Odense\", \"Aalborg\"]\n",
    "sample = np.random.choice(cities, size=3, replace=False)  # sample without replacement\n",
    "\n",
    "# 3. Shuffle and permutation\n",
    "numbers = np.arange(1, 6)\n",
    "shuffled = numbers.copy()\n",
    "np.random.shuffle(shuffled)                 # In-place shuffle\n",
    "\n",
    "permuted = np.random.permutation(numbers)   # Returns a new shuffled array\n",
    "\n",
    "# Print results\n",
    "print(\"Random uniform (3x2):\\n\", rand_uniform)\n",
    "print(\"Random normal (4):\", rand_normal)\n",
    "print(\"Random integers:\", rand_ints)\n",
    "print(\"Random city sample:\", sample)\n",
    "print(\"Shuffled (in-place):\", shuffled)\n",
    "print(\"Permuted (new array):\", permuted)\n"
   ],
   "outputs": [
    {
     "name": "stdout",
     "output_type": "stream",
     "text": [
      "Random uniform (3x2):\n",
      " [[0.37454012 0.95071431]\n",
      " [0.73199394 0.59865848]\n",
      " [0.15601864 0.15599452]]\n",
      "Random normal (4): [ 1.57921282  0.76743473 -0.46947439  0.54256004]\n",
      "Random integers: [5 1 6 9 1]\n",
      "Random city sample: ['Aarhus' 'Copenhagen' 'Aalborg']\n",
      "Shuffled (in-place): [1 5 3 4 2]\n",
      "Permuted (new array): [1 2 5 4 3]\n"
     ]
    }
   ],
   "execution_count": 8
  },
  {
   "cell_type": "markdown",
   "id": "0a650eb5",
   "metadata": {},
   "source": [
    "### ⚠️ Common Pitfalls"
   ]
  },
  {
   "cell_type": "code",
   "id": "71969fa0",
   "metadata": {
    "ExecuteTime": {
     "end_time": "2025-08-29T07:42:44.452781Z",
     "start_time": "2025-08-29T07:42:44.446623Z"
    }
   },
   "source": [
    "import numpy as np\n",
    "\n",
    "# 1. Mixing Python lists and NumPy arrays\n",
    "arr = np.array([1, 2, 3])\n",
    "bad_sum = arr + [4, 5, 6]      # Works, but might be confusing: adds element-wise, not concatenates\n",
    "print(\"Element-wise sum with list:\", bad_sum)\n",
    "\n",
    "# 2. Copy vs view (modifying unintended data)\n",
    "original = np.array([1, 2, 3])\n",
    "view = original[1:]            # This is a view (not a copy)\n",
    "view[0] = 99                   # Also changes original!\n",
    "print(\"Original after view-modified:\", original)\n",
    "\n",
    "# To avoid: use .copy()\n",
    "safe = original.copy()\n",
    "safe[0] = 100\n",
    "print(\"Original after safe copy:\", original)\n",
    "\n",
    "# 3. Shape mismatch in operations\n",
    "a = np.array([1, 2, 3])\n",
    "b = np.array([[1, 2, 3], [4, 5, 6]])\n",
    "try:\n",
    "    result = a + b             # Works: broadcasting\n",
    "    print(\"Broadcasted sum:\\n\", result)\n",
    "    \n",
    "    c = np.array([1, 2])\n",
    "    result_fail = a + c        # Fails: shapes incompatible\n",
    "except ValueError as e:\n",
    "    print(\"Shape mismatch error:\", e)\n"
   ],
   "outputs": [
    {
     "name": "stdout",
     "output_type": "stream",
     "text": [
      "Element-wise sum with list: [5 7 9]\n",
      "Original after view-modified: [ 1 99  3]\n",
      "Original after safe copy: [ 1 99  3]\n",
      "Broadcasted sum:\n",
      " [[2 4 6]\n",
      " [5 7 9]]\n",
      "Shape mismatch error: operands could not be broadcast together with shapes (3,) (2,) \n"
     ]
    }
   ],
   "execution_count": 9
  },
  {
   "cell_type": "markdown",
   "id": "3dc947c6",
   "metadata": {},
   "source": [
    "## PyTorch"
   ]
  },
  {
   "cell_type": "markdown",
   "id": "5f65fbd6",
   "metadata": {},
   "source": [
    "🧠 What is PyTorch?\n",
    "\n",
    "**PyTorch** is an open-source deep learning library developed by Meta (formerly Facebook). It’s popular for:\n",
    "\n",
    "- Building and training neural networks  \n",
    "- Fast, flexible tensor computations (like NumPy with GPU support)  \n",
    "- Automatic differentiation for optimization (via autograd)\n",
    "\n",
    "🛠️ Installing PyTorch\n",
    "\n",
    "Use the official install command generator:  \n",
    "👉 https://pytorch.org/get-started/locally/\n",
    "\n",
    "Or, for most basic setups (CPU-only):\n",
    "\n",
    "```bash\n",
    "pip install torch\n",
    "```\n",
    "\n",
    "✅ Why Use PyTorch?\n",
    "- Dynamic computation graphs (define-as-you-run)\n",
    "\n",
    "- Built-in GPU support\n",
    "\n",
    "- Friendly syntax similar to NumPy\n",
    "\n",
    "- Industry-standard for deep learning research and production"
   ]
  },
  {
   "cell_type": "markdown",
   "id": "e0b17329",
   "metadata": {},
   "source": [
    "### 🔥 Introduction to PyTorch"
   ]
  },
  {
   "cell_type": "code",
   "execution_count": null,
   "id": "919d89b6",
   "metadata": {},
   "outputs": [],
   "source": [
    "import torch\n",
    "\n",
    "# Create a simple tensor\n",
    "x = torch.tensor([1.0, 2.0, 3.0])  # 1D float tensor\n",
    "print(\"Tensor x:\", x)\n",
    "\n",
    "# Check tensor attributes\n",
    "print(\"Shape:\", x.shape)\n",
    "print(\"Data type:\", x.dtype)\n",
    "print(\"Device:\", x.device)\n",
    "\n",
    "# Create a tensor with requires_grad (for autograd later)\n",
    "x_grad = torch.tensor([1.0, 2.0, 3.0], requires_grad=True)\n",
    "print(\"Requires grad:\", x_grad.requires_grad)\n",
    "\n",
    "# Check for GPU support and move a tensor to CUDA if available\n",
    "if torch.cuda.is_available():\n",
    "    x_cuda = x.to(\"cuda\")\n",
    "    print(\"Tensor on GPU:\", x_cuda)\n",
    "else:\n",
    "    print(\"CUDA not available — running on CPU\")\n"
   ]
  },
  {
   "cell_type": "markdown",
   "id": "d87d2961",
   "metadata": {},
   "source": [
    "### 🔢 Creating Tensors in PyTorch"
   ]
  },
  {
   "cell_type": "code",
   "execution_count": null,
   "id": "abdb183f",
   "metadata": {},
   "outputs": [],
   "source": [
    "import torch\n",
    "import numpy as np\n",
    "\n",
    "# 1. From Python lists\n",
    "a = torch.tensor([1, 2, 3])                  # 1D tensor\n",
    "b = torch.tensor([[1, 2], [3, 4]])           # 2D tensor\n",
    "\n",
    "# 2. With default values\n",
    "zeros = torch.zeros((2, 3))                 # 2x3 tensor of zeros\n",
    "ones = torch.ones((2, 3))                   # 2x3 tensor of ones\n",
    "rand = torch.rand((2, 2))                   # Uniform [0, 1)\n",
    "randn = torch.randn((2, 2))                 # Normal distribution\n",
    "arange = torch.arange(0, 10, 2)             # Like Python range\n",
    "eye = torch.eye(3)                          # Identity matrix\n",
    "\n",
    "# 3. Specifying dtype\n",
    "float_tensor = torch.tensor([1, 2, 3], dtype=torch.float32)\n",
    "int_tensor = torch.tensor([1.5, 2.5, 3.5], dtype=torch.int32)\n",
    "\n",
    "# 4. From NumPy array\n",
    "np_arr = np.array([[1, 2], [3, 4]])\n",
    "t_from_np = torch.tensor(np_arr, dtype=torch.int32)\n",
    "\n",
    "# Print a few key results\n",
    "print(\"a:\", a)\n",
    "print(\"zeros:\\n\", zeros)\n",
    "print(\"rand:\\n\", rand)\n",
    "print(\"arange:\", arange)\n",
    "print(\"from numpy:\\n\", t_from_np)\n",
    "print(\"float tensor:\", float_tensor)\n",
    "print(\"int tensor (truncated):\", int_tensor)\n"
   ]
  },
  {
   "cell_type": "markdown",
   "id": "0d9fc213",
   "metadata": {},
   "source": [
    "### 🔍 Tensor Attributes"
   ]
  },
  {
   "cell_type": "code",
   "execution_count": null,
   "id": "a454dda2",
   "metadata": {},
   "outputs": [],
   "source": [
    "import torch\n",
    "\n",
    "# Sample tensors\n",
    "x = torch.randn((2, 3))\n",
    "y = torch.tensor([[1, 2, 3], [4, 5, 6]], dtype=torch.int32)\n",
    "\n",
    "# Inspect attributes\n",
    "print(\"x:\\n\", x)\n",
    "print(\"x.shape:\", x.shape)\n",
    "print(\"x.ndim:\", x.ndim)\n",
    "print(\"x.dtype:\", x.dtype)\n",
    "print(\"x.device:\", x.device)\n",
    "print(\"x.requires_grad:\", x.requires_grad)\n",
    "\n",
    "print(\"\\ny:\\n\", y)\n",
    "print(\"y.shape:\", y.shape)\n",
    "print(\"y.dtype:\", y.dtype)\n",
    "print(\"y.numel():\", y.numel())  # Total number of elements\n"
   ]
  },
  {
   "cell_type": "markdown",
   "id": "f46be735",
   "metadata": {},
   "source": [
    "### ✂️ Indexing, Slicing, and Masking"
   ]
  },
  {
   "cell_type": "code",
   "execution_count": null,
   "id": "3e8ef076",
   "metadata": {},
   "outputs": [],
   "source": [
    "import torch\n",
    "\n",
    "# Sample tensors\n",
    "a = torch.tensor([10, 20, 30, 40, 50])\n",
    "b = torch.tensor([[1, 2, 3], [4, 5, 6], [7, 8, 9]])\n",
    "\n",
    "# 1D indexing & slicing\n",
    "print(\"a[0]:\", a[0])              # First element\n",
    "print(\"a[-1]:\", a[-1])            # Last element\n",
    "print(\"a[1:4]:\", a[1:4])          # Slice\n",
    "print(\"a[::2]:\", a[::2])          # Every other element\n",
    "\n",
    "# 2D indexing\n",
    "print(\"b[1, 2]:\", b[1, 2])        # Row 1, col 2\n",
    "print(\"b[:, 0]:\", b[:, 0])        # First column\n",
    "print(\"b[0, :]:\", b[0, :])        # First row\n",
    "print(\"b[1:, 1:]:\\n\", b[1:, 1:])  # Bottom-right submatrix\n",
    "\n",
    "# Boolean masking\n",
    "mask = a > 25\n",
    "print(\"Mask:\", mask)\n",
    "print(\"a[mask]:\", a[mask])        # Values where a > 25\n",
    "\n",
    "# In-place modification\n",
    "a[a > 30] = -1\n",
    "print(\"Modified a:\", a)"
   ]
  },
  {
   "cell_type": "markdown",
   "id": "3843940e",
   "metadata": {},
   "source": [
    "### 🧮 Tensor Operations"
   ]
  },
  {
   "cell_type": "code",
   "execution_count": null,
   "id": "8b5ca05e",
   "metadata": {},
   "outputs": [],
   "source": [
    "import torch\n",
    "\n",
    "# Sample tensors\n",
    "a = torch.tensor([1.0, 2.0, 3.0])\n",
    "b = torch.tensor([4.0, 5.0, 6.0])\n",
    "\n",
    "# Arithmetic operations\n",
    "print(\"a + b:\", a + b)\n",
    "print(\"a * b:\", a * b)\n",
    "print(\"a ** 2:\", a ** 2)\n",
    "\n",
    "# Comparison operations\n",
    "print(\"a > 2:\", a > 2)\n",
    "\n",
    "# Aggregation / reductions\n",
    "print(\"sum(a):\", torch.sum(a))\n",
    "print(\"mean(b):\", torch.mean(b))\n",
    "print(\"max(a):\", torch.max(a))\n",
    "print(\"argmax(b):\", torch.argmax(b))  # Index of max value\n",
    "\n",
    "# Broadcasting example\n",
    "c = torch.tensor([[1.0], [2.0], [3.0]])  # Shape (3, 1)\n",
    "d = torch.tensor([10.0, 20.0])           # Shape (2,)\n",
    "print(\"Broadcasted c * d:\\n\", c * d)     # Shape (3, 2)\n"
   ]
  },
  {
   "cell_type": "markdown",
   "id": "110b83b3",
   "metadata": {},
   "source": [
    "### 🔁 Reshaping and Views"
   ]
  },
  {
   "cell_type": "code",
   "execution_count": null,
   "id": "f2c9f7ee",
   "metadata": {},
   "outputs": [],
   "source": [
    "import torch\n",
    "\n",
    "# Create a tensor\n",
    "x = torch.arange(1, 7)           # [1, 2, 3, 4, 5, 6]\n",
    "\n",
    "# Reshape to 2x3\n",
    "reshaped = x.view(2, 3)          # Same as .reshape()\n",
    "print(\"Reshaped (2x3):\\n\", reshaped)\n",
    "\n",
    "# Flattening\n",
    "flat = reshaped.view(-1)         # Collapse to 1D\n",
    "print(\"Flattened:\", flat)\n",
    "\n",
    "# Adding dimensions\n",
    "row_vec = x.unsqueeze(0)         # Shape: (1, 6)\n",
    "col_vec = x.unsqueeze(1)         # Shape: (6, 1)\n",
    "print(\"Row vector shape:\", row_vec.shape)\n",
    "print(\"Col vector shape:\", col_vec.shape)\n",
    "\n",
    "# Removing dimensions\n",
    "squeezed = col_vec.squeeze()     # Removes all dims of size 1\n",
    "print(\"Squeezed shape:\", squeezed.shape)\n",
    "\n",
    "# Transposing a matrix\n",
    "m = torch.tensor([[1, 2], [3, 4]])\n",
    "print(\"Transposed:\\n\", m.T)\n"
   ]
  },
  {
   "cell_type": "markdown",
   "id": "c5c3bf34",
   "metadata": {},
   "source": [
    "### 🧠 Autograd (Automatic Differentiation)"
   ]
  },
  {
   "cell_type": "code",
   "execution_count": null,
   "id": "8c5277d4",
   "metadata": {},
   "outputs": [],
   "source": [
    "import torch\n",
    "\n",
    "# 1. Create a tensor with gradient tracking\n",
    "x = torch.tensor([2.0], requires_grad=True)\n",
    "\n",
    "# 2. Define a simple function: y = x² + 3x\n",
    "y = x**2 + 3 * x\n",
    "\n",
    "# 3. Backpropagate to compute dy/dx (More on this in the upcoming weeks)\n",
    "y.backward()\n",
    "\n",
    "# 4. Access the gradient\n",
    "print(\"x:\", x.item())\n",
    "print(\"y:\", y.item())\n",
    "print(\"dy/dx:\", x.grad.item())  # Should be 2x + 3 → 2*2 + 3 = 7\n",
    "\n",
    "# 5. Resetting gradient (common in training loops)\n",
    "x.grad.zero_()\n",
    "\n",
    "# Optional: compute multiple steps\n",
    "a = torch.tensor([1.0, 2.0, 3.0], requires_grad=True)\n",
    "z = (a * a).sum()     # z = a₁² + a₂² + a₃²\n",
    "z.backward()\n",
    "print(\"Gradient of z w.r.t a:\", a.grad)  # dz/da = 2a\n"
   ]
  }
 ],
 "metadata": {
  "kernelspec": {
   "display_name": "nlp_private",
   "language": "python",
   "name": "python3"
  },
  "language_info": {
   "codemirror_mode": {
    "name": "ipython",
    "version": 3
   },
   "file_extension": ".py",
   "mimetype": "text/x-python",
   "name": "python",
   "nbconvert_exporter": "python",
   "pygments_lexer": "ipython3",
   "version": "3.12.11"
  }
 },
 "nbformat": 4,
 "nbformat_minor": 5
}
