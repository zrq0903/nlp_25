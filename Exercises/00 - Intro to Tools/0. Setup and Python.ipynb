{
 "cells": [
  {
   "metadata": {
    "jupyter": {
     "is_executing": true
    }
   },
   "cell_type": "code",
   "source": [
    "## Setup and Introduction to Python\n",
    "\n",
    "This tutorial should get you up and running with your Python environment\n",
    "\n",
    "* Install miniconda according to your setup, following the official instructions: [link](https://www.anaconda.com/docs/getting-started/miniconda/install#quickstart-install-instructions).\n",
    "\n",
    "* Create a new environment\n",
    "```\n",
    "conda create -y -n nlp python=3.12\n",
    "```\n",
    "\n",
    "* Activate it:\n",
    "    \n",
    "```\n",
    "conda activate nlp\n",
    "```\n",
    "\n",
    "* To deactivate the current environment and remove an environment. (Do not run the remove command, as it will remove the environment you just installed ...)\n",
    "    \n",
    "```\n",
    "conda deactivate\n",
    "conda remove --name nlp --all\n",
    "```"
   ],
   "id": "31800d12adc43560",
   "outputs": [],
   "execution_count": null
  },
  {
   "cell_type": "markdown",
   "id": "effdb2fc",
   "metadata": {},
   "source": [
    "## Python Basics"
   ]
  },
  {
   "cell_type": "markdown",
   "id": "3a25f140",
   "metadata": {},
   "source": [
    "### Variables"
   ]
  },
  {
   "cell_type": "code",
   "id": "439ac36f",
   "metadata": {
    "ExecuteTime": {
     "end_time": "2025-08-29T07:08:51.290703Z",
     "start_time": "2025-08-29T07:08:51.278675Z"
    }
   },
   "source": [
    "# In Python, you don't need to declare variable types explicitly.\n",
    "x = 10               # Integer\n",
    "name = \"Alice\"       # String\n",
    "pi = 3.14            # Float\n",
    "is_happy = True      # Boolean\n",
    "\n",
    "print(x, name, pi, is_happy)"
   ],
   "outputs": [
    {
     "name": "stdout",
     "output_type": "stream",
     "text": [
      "10 Alice 3.14 True\n"
     ]
    }
   ],
   "execution_count": 1
  },
  {
   "cell_type": "markdown",
   "id": "2708c595",
   "metadata": {},
   "source": [
    "### Operations"
   ]
  },
  {
   "cell_type": "code",
   "id": "5ab1615a",
   "metadata": {
    "ExecuteTime": {
     "end_time": "2025-08-29T07:09:26.806023Z",
     "start_time": "2025-08-29T07:09:26.800997Z"
    }
   },
   "source": [
    "a = 5\n",
    "b = 2\n",
    "print(\"Addition:\", a + b)\n",
    "print(\"Subtraction:\", a - b)\n",
    "print(\"Multiplication:\", a * b)\n",
    "print(\"Division:\", a / b)\n",
    "print(\"Exponentiation:\", a ** b)\n",
    "print(\"Modulus:\", a % b)"
   ],
   "outputs": [
    {
     "name": "stdout",
     "output_type": "stream",
     "text": [
      "Addition: 7\n",
      "Subtraction: 3\n",
      "Multiplication: 10\n",
      "Division: 2.5\n",
      "Exponentiation: 25\n",
      "Modulus: 1\n"
     ]
    }
   ],
   "execution_count": 2
  },
  {
   "cell_type": "markdown",
   "id": "cb969542",
   "metadata": {},
   "source": [
    "### Control flow"
   ]
  },
  {
   "cell_type": "code",
   "id": "52af113d",
   "metadata": {
    "ExecuteTime": {
     "end_time": "2025-08-29T07:09:32.677575Z",
     "start_time": "2025-08-29T07:09:32.672889Z"
    }
   },
   "source": [
    "# if, elif, else\n",
    "age = 18\n",
    "if age < 18:\n",
    "    print(\"You are a minor.\")\n",
    "elif age == 18:\n",
    "    print(\"Just became an adult!\")\n",
    "else:\n",
    "    print(\"You are an adult.\")\n",
    "\n",
    "# for loop\n",
    "for i in range(5):\n",
    "    print(\"For loop iteration:\", i)\n",
    "\n",
    "# while loop\n",
    "count = 0\n",
    "while count < 3:\n",
    "    print(\"While loop count:\", count)\n",
    "    count += 1\n",
    "\n",
    "# try, except\n",
    "try:\n",
    "    result = 10 / 0\n",
    "except ZeroDivisionError:\n",
    "    print(\"Cannot divide by zero!\")"
   ],
   "outputs": [
    {
     "name": "stdout",
     "output_type": "stream",
     "text": [
      "Just became an adult!\n",
      "For loop iteration: 0\n",
      "For loop iteration: 1\n",
      "For loop iteration: 2\n",
      "For loop iteration: 3\n",
      "For loop iteration: 4\n",
      "While loop count: 0\n",
      "While loop count: 1\n",
      "While loop count: 2\n",
      "Cannot divide by zero!\n"
     ]
    }
   ],
   "execution_count": 4
  },
  {
   "cell_type": "markdown",
   "id": "e951a11c",
   "metadata": {},
   "source": [
    "## Basic data structures"
   ]
  },
  {
   "cell_type": "markdown",
   "id": "984cb6b2",
   "metadata": {},
   "source": [
    "### Lists\n",
    "Mutable arrays."
   ]
  },
  {
   "cell_type": "code",
   "id": "efd2e2c8",
   "metadata": {
    "ExecuteTime": {
     "end_time": "2025-08-29T07:09:36.583453Z",
     "start_time": "2025-08-29T07:09:36.578953Z"
    }
   },
   "source": [
    "cities = [\"aarhus\", \"copenhagen\", \"odense\"]\n",
    "\n",
    "# Indexing\n",
    "print(\"First city:\", cities[0])\n",
    "\n",
    "# Slicing\n",
    "print(\"First two cities:\", cities[0:2])\n",
    "print(\"Last two cities:\", cities[-2:])\n",
    "\n",
    "# Adding an element\n",
    "cities.append(\"aalborg\")\n",
    "print(\"Cities after adding Aalborg:\", cities)\n",
    "\n",
    "# Removing an element\n",
    "cities.remove(\"aarhus\")\n",
    "print(\"Cities after removing Aarhus:\", cities)\n",
    "\n",
    "# Get the length of the list\n",
    "print(\"Number of cities:\", len(cities))\n",
    "\n",
    "# Concatenate two lists\n",
    "more_cities = [\"esbjerg\", \"randers\"]\n",
    "all_cities = cities + more_cities\n",
    "print(\"All cities:\", all_cities)\n",
    "\n",
    "# Lists are mutable, meaning you can change their contents\n",
    "cities[0] = \"Copenhagen\"\n",
    "print(\"Cities after changing first city:\", cities)\n",
    "\n",
    "# List comprehension\n",
    "cities_upper = [city.capitalize() for city in cities]\n",
    "print(\"Cities in uppercase:\", cities_upper)"
   ],
   "outputs": [
    {
     "name": "stdout",
     "output_type": "stream",
     "text": [
      "First city: aarhus\n",
      "First two cities: ['aarhus', 'copenhagen']\n",
      "Last two cities: ['copenhagen', 'odense']\n",
      "Cities after adding Aalborg: ['aarhus', 'copenhagen', 'odense', 'aalborg']\n",
      "Cities after removing Aarhus: ['copenhagen', 'odense', 'aalborg']\n",
      "Number of cities: 3\n",
      "All cities: ['copenhagen', 'odense', 'aalborg', 'esbjerg', 'randers']\n",
      "Cities after changing first city: ['Copenhagen', 'odense', 'aalborg']\n",
      "Cities in uppercase: ['Copenhagen', 'Odense', 'Aalborg']\n"
     ]
    }
   ],
   "execution_count": 5
  },
  {
   "cell_type": "markdown",
   "id": "24206d32",
   "metadata": {},
   "source": [
    "### Tuples\n",
    "Immutable arrays."
   ]
  },
  {
   "cell_type": "code",
   "id": "aa168ed8",
   "metadata": {
    "ExecuteTime": {
     "end_time": "2025-08-29T07:09:49.056720Z",
     "start_time": "2025-08-29T07:09:49.053458Z"
    }
   },
   "source": [
    "cities = (\"aarhus\", \"copenhagen\", \"odense\")\n",
    "\n",
    "# Tuples are immutable, meaning you cannot change their contents\n",
    "try:\n",
    "    cities[0] = \"Copenhagen\"\n",
    "except TypeError as e:\n",
    "    print(\"Error:\", e)\n",
    "\n",
    "# Single element tuple\n",
    "single_city = (\"aarhus\",)  # Note the comma\n",
    "print(\"Single city tuple:\", single_city)"
   ],
   "outputs": [
    {
     "name": "stdout",
     "output_type": "stream",
     "text": [
      "Error: 'tuple' object does not support item assignment\n",
      "Single city tuple: ('aarhus',)\n"
     ]
    }
   ],
   "execution_count": 6
  },
  {
   "cell_type": "markdown",
   "id": "11b7b701",
   "metadata": {},
   "source": [
    "### Dictionaries"
   ]
  },
  {
   "cell_type": "code",
   "id": "d1152ce6",
   "metadata": {
    "ExecuteTime": {
     "end_time": "2025-08-29T07:09:57.313242Z",
     "start_time": "2025-08-29T07:09:57.308763Z"
    }
   },
   "source": [
    "person = {\n",
    "    \"name\": \"Alice\",\n",
    "    \"age\": 30,\n",
    "    \"city\": \"Copenhagen\"\n",
    "}\n",
    "\n",
    "# Accessing dictionary values\n",
    "print(\"Person's name:\", person[\"name\"])\n",
    "\n",
    "# Adding a new key-value pair\n",
    "person[\"job\"] = \"ML Engineer\"\n",
    "print(\"Person after adding job:\", person)\n",
    "\n",
    "# Removing a key-value pair\n",
    "del person[\"age\"]\n",
    "print(\"Person after removing age:\", person)\n",
    "\n",
    "# Check if a key exists\n",
    "print(\"City included:\", \"city\" in person)  # True\n",
    "print(\"Country included:\", \"country\" in person)  # False\n",
    "\n",
    "# Iterating through a dictionary\n",
    "print(\"Keys\", person.keys())\n",
    "print(\"Values\", person.values())\n",
    "for key, value in person.items():\n",
    "    print(f\"{key}: {value}\")\n"
   ],
   "outputs": [
    {
     "name": "stdout",
     "output_type": "stream",
     "text": [
      "Person's name: Alice\n",
      "Person after adding job: {'name': 'Alice', 'age': 30, 'city': 'Copenhagen', 'job': 'ML Engineer'}\n",
      "Person after removing age: {'name': 'Alice', 'city': 'Copenhagen', 'job': 'ML Engineer'}\n",
      "City included: True\n",
      "Country included: False\n",
      "Keys dict_keys(['name', 'city', 'job'])\n",
      "Values dict_values(['Alice', 'Copenhagen', 'ML Engineer'])\n",
      "name: Alice\n",
      "city: Copenhagen\n",
      "job: ML Engineer\n"
     ]
    }
   ],
   "execution_count": 7
  },
  {
   "cell_type": "markdown",
   "id": "5fee1b8c",
   "metadata": {},
   "source": [
    "### Sets"
   ]
  },
  {
   "cell_type": "code",
   "id": "db350e96",
   "metadata": {
    "ExecuteTime": {
     "end_time": "2025-08-29T07:11:31.786646Z",
     "start_time": "2025-08-29T07:11:31.782651Z"
    }
   },
   "source": [
    "# Define a set\n",
    "cities = {\"copenhagen\", \"odense\", \"aarhus\",}\n",
    "\n",
    "# Sets are unordered (-ish) collections of unique elements\n",
    "print(\"Cities set:\", cities)\n",
    "\n",
    "# Adding an element to a set\n",
    "cities.add(\"aalborg\")\n",
    "print(\"Cities after adding Aalborg:\", cities)\n",
    "\n",
    "# Removing an element from a set\n",
    "cities.remove(\"aarhus\")\n",
    "print(\"Cities after removing Aarhus:\", cities)\n",
    "\n",
    "# Check if an element is in the set\n",
    "print(\"Is Copenhagen in the set?\", \"copenhagen\" in cities)  # True\n",
    "\n",
    "# Set operations\n",
    "more_cities = {\"aalborg\", \"esbjerg\", \"randers\"}\n",
    "# Union of two sets\n",
    "all_cities_set = cities.union(more_cities)\n",
    "print(\"All cities set:\", all_cities_set)\n",
    "\n",
    "# Intersection of two sets\n",
    "intersection_cities = cities.intersection(more_cities)\n",
    "print(\"Intersection of cities:\", intersection_cities)\n",
    "\n",
    "# Difference of two sets\n",
    "difference_cities = cities.difference(more_cities)\n",
    "print(\"Cities not in more_cities:\", difference_cities)"
   ],
   "outputs": [
    {
     "name": "stdout",
     "output_type": "stream",
     "text": [
      "Cities set: {'aarhus', 'odense', 'copenhagen'}\n",
      "Cities after adding Aalborg: {'aarhus', 'odense', 'aalborg', 'copenhagen'}\n",
      "Cities after removing Aarhus: {'odense', 'aalborg', 'copenhagen'}\n",
      "Is Copenhagen in the set? True\n",
      "All cities set: {'odense', 'aalborg', 'esbjerg', 'randers', 'copenhagen'}\n",
      "Intersection of cities: {'aalborg'}\n",
      "Cities not in more_cities: {'odense', 'copenhagen'}\n"
     ]
    }
   ],
   "execution_count": 8
  },
  {
   "cell_type": "markdown",
   "id": "e8a6fd2a",
   "metadata": {},
   "source": [
    "## Functions"
   ]
  },
  {
   "cell_type": "code",
   "id": "26c64a12",
   "metadata": {
    "ExecuteTime": {
     "end_time": "2025-08-29T07:12:12.974695Z",
     "start_time": "2025-08-29T07:12:12.970438Z"
    }
   },
   "source": [
    "# 🛠️ Defining and Using Functions in Python\n",
    "\n",
    "# 1. Function with no parameters\n",
    "def greet():\n",
    "    \"\"\"Prints a generic greeting.\"\"\"\n",
    "    print(\"Hello, world!\")\n",
    "\n",
    "greet()\n",
    "\n",
    "\n",
    "# 2. Function with a parameter and a default value\n",
    "def greet_person(name=\"friend\"):\n",
    "    \"\"\"Greets a person by name, or uses a default if none provided.\"\"\"\n",
    "    print(f\"Hello, {name}!\")\n",
    "\n",
    "greet_person(\"Alice\")\n",
    "greet_person()\n",
    "\n",
    "\n",
    "# 3. Function using keyword arguments\n",
    "def describe_pet(animal, name):\n",
    "    \"\"\"Prints a description of a pet.\"\"\"\n",
    "    print(f\"I have a {animal} named {name}.\")\n",
    "\n",
    "describe_pet(animal=\"dog\", name=\"Buddy\")\n",
    "describe_pet(name=\"Whiskers\", animal=\"cat\")\n",
    "\n",
    "\n",
    "# 4. Function with a return value\n",
    "def add(a: int, b: int) -> int:\n",
    "    \"\"\"Returns the sum of two integers.\"\"\"\n",
    "    return a + b\n",
    "\n",
    "sum_result = add(3, 5)\n",
    "print(f\"The sum is: {sum_result}\")\n",
    "\n",
    "\n",
    "# 5. Function returning multiple values\n",
    "def get_min_max(numbers):\n",
    "    \"\"\"Returns the minimum and maximum of a list of numbers.\"\"\"\n",
    "    return min(numbers), max(numbers)\n",
    "\n",
    "low, high = get_min_max([3, 7, 2, 9])\n",
    "print(f\"Lowest: {low}, Highest: {high}\")\n",
    "\n",
    "\n",
    "# 6. Nested function\n",
    "def outer_function(x):\n",
    "    \"\"\"Example of a nested (inner) function.\"\"\"\n",
    "    def inner_function(y):\n",
    "        return y * y\n",
    "    return inner_function(x)\n",
    "\n",
    "result = outer_function(4)\n",
    "print(f\"Nested function result: {result}\")\n"
   ],
   "outputs": [
    {
     "name": "stdout",
     "output_type": "stream",
     "text": [
      "Hello, world!\n",
      "Hello, Alice!\n",
      "Hello, friend!\n",
      "I have a dog named Buddy.\n",
      "I have a cat named Whiskers.\n",
      "The sum is: 8\n",
      "Lowest: 2, Highest: 9\n",
      "Nested function result: 16\n"
     ]
    }
   ],
   "execution_count": 9
  },
  {
   "cell_type": "markdown",
   "id": "9e8ac76f",
   "metadata": {},
   "source": [
    "## Classes"
   ]
  },
  {
   "cell_type": "code",
   "id": "4421326f",
   "metadata": {
    "ExecuteTime": {
     "end_time": "2025-08-29T07:22:12.398140Z",
     "start_time": "2025-08-29T07:22:12.391257Z"
    }
   },
   "source": [
    "# 🇩🇰 Python Classes Tutorial with Danish Cities\n",
    "\n",
    "# 1. Basic Class and Object\n",
    "class City:\n",
    "    \"\"\"Represents a city in Denmark.\"\"\"\n",
    "\n",
    "    def describe(self):\n",
    "        print(\"This is a city in Denmark.\")\n",
    "\n",
    "# Create a city object\n",
    "copenhagen = City()\n",
    "copenhagen.describe()\n",
    "\n",
    "\n",
    "# 2. Class with __init__ Constructor\n",
    "class City:\n",
    "    \"\"\"Represents a city in Denmark with a name and population.\"\"\"\n",
    "\n",
    "    def __init__(self, name, population):\n",
    "        self.name = name\n",
    "        self.population = population\n",
    "\n",
    "    def describe(self):\n",
    "        print(f\"{self.name} has a population of {self.population:,} people.\")\n",
    "\n",
    "# Creating instances\n",
    "aarhus = City(\"Aarhus\", 285273)\n",
    "odense = City(\"Odense\", 180302)\n",
    "\n",
    "aarhus.describe()\n",
    "odense.describe()\n",
    "\n",
    "\n",
    "# 3. Add Default Parameters and Type Hints\n",
    "class City:\n",
    "    \"\"\"Represents a Danish city with name, population, and region.\"\"\"\n",
    "\n",
    "    def __init__(self, name: str, population: int, region: str = \"Unknown\"):\n",
    "        self.name = name\n",
    "        self.population = population\n",
    "        self.region = region\n",
    "\n",
    "    def describe(self):\n",
    "        print(f\"{self.name} is in the {self.region} region with {self.population:,} people.\")\n",
    "\n",
    "# Example with default and custom values\n",
    "aalborg = City(\"Aalborg\", 119862, \"North Denmark\")\n",
    "roskilde = City(\"Roskilde\", 50746)\n",
    "\n",
    "aalborg.describe()\n",
    "roskilde.describe()\n",
    "\n",
    "\n",
    "# 4. Inheritance: Adding CapitalCity\n",
    "class CapitalCity(City):\n",
    "    \"\"\"A special type of city: the capital.\"\"\"\n",
    "\n",
    "    def __init__(self, name, population, region, parliament_location):\n",
    "        super().__init__(name, population, region)\n",
    "        self.parliament_location = parliament_location\n",
    "\n",
    "    def describe_government(self):\n",
    "        print(f\"{self.name} hosts the Danish parliament at {self.parliament_location}.\")\n",
    "\n",
    "copenhagen = CapitalCity(\"Copenhagen\", 799033, \"Capital Region\", \"Christiansborg Palace\")\n",
    "copenhagen.describe()\n",
    "copenhagen.describe_government()\n",
    "\n",
    "\n",
    "# 5. Class and Static Methods\n",
    "class CityInfoHelper:\n",
    "    \"\"\"Utility class for city-related calculations.\"\"\"\n",
    "\n",
    "    @staticmethod\n",
    "    def population_density(population, area_km2):\n",
    "        return population / area_km2\n",
    "\n",
    "    @classmethod\n",
    "    def source(cls):\n",
    "        return f\"Data provided by {cls.__name__}\"\n",
    "\n",
    "print(f\"Aarhus density: {CityInfoHelper.population_density(285273, 91.0):.2f} people/km²\")\n",
    "print(CityInfoHelper.source())\n",
    "\n",
    "\n",
    "# 6. Private Variables & Data Protection\n",
    "class SecureCity:\n",
    "    \"\"\"Stores sensitive data (hypothetical).\"\"\"\n",
    "\n",
    "    def __init__(self, name, sensitive_code):\n",
    "        self.name = name\n",
    "        self.__sensitive_code = sensitive_code  # private attribute\n",
    "\n",
    "    def reveal_code(self):\n",
    "        return f\"{self.name}'s secure code is {self.__sensitive_code}.\"\n",
    "\n",
    "secure_aarhus = SecureCity(\"Aarhus\", \"DK-12345\")\n",
    "print(secure_aarhus.reveal_code())\n",
    "\n",
    "# Accessing private attribute (not recommended)\n",
    "print(f\"Hacked code: {secure_aarhus._SecureCity__sensitive_code}\")"
   ],
   "outputs": [
    {
     "name": "stdout",
     "output_type": "stream",
     "text": [
      "This is a city in Denmark.\n",
      "Aarhus has a population of 285,273 people.\n",
      "Odense has a population of 180,302 people.\n",
      "Aalborg is in the North Denmark region with 119,862 people.\n",
      "Roskilde is in the Unknown region with 50,746 people.\n",
      "Copenhagen is in the Capital Region region with 799,033 people.\n",
      "Copenhagen hosts the Danish parliament at Christiansborg Palace.\n",
      "Aarhus density: 3134.87 people/km²\n",
      "Data provided by CityInfoHelper\n",
      "Aarhus's secure code is DK-12345.\n",
      "Hacked code: DK-12345\n"
     ]
    }
   ],
   "execution_count": 10
  },
  {
   "metadata": {
    "ExecuteTime": {
     "end_time": "2025-08-29T07:23:48.930028Z",
     "start_time": "2025-08-29T07:23:48.706017Z"
    }
   },
   "cell_type": "code",
   "source": "secure_aarhus.__sensitive_code",
   "id": "b82f4118ea3864de",
   "outputs": [
    {
     "ename": "AttributeError",
     "evalue": "'SecureCity' object has no attribute '__sensitive_code'",
     "output_type": "error",
     "traceback": [
      "\u001B[31m---------------------------------------------------------------------------\u001B[39m",
      "\u001B[31mAttributeError\u001B[39m                            Traceback (most recent call last)",
      "\u001B[36mCell\u001B[39m\u001B[36m \u001B[39m\u001B[32mIn[12]\u001B[39m\u001B[32m, line 1\u001B[39m\n\u001B[32m----> \u001B[39m\u001B[32m1\u001B[39m secure_aarhus.__sensitive_code\n",
      "\u001B[31mAttributeError\u001B[39m: 'SecureCity' object has no attribute '__sensitive_code'"
     ]
    }
   ],
   "execution_count": 12
  },
  {
   "metadata": {},
   "cell_type": "code",
   "outputs": [],
   "execution_count": null,
   "source": "",
   "id": "7ceb55f4f4b1863d"
  }
 ],
 "metadata": {
  "kernelspec": {
   "display_name": "nlp",
   "language": "python",
   "name": "python3"
  },
  "language_info": {
   "codemirror_mode": {
    "name": "ipython",
    "version": 3
   },
   "file_extension": ".py",
   "mimetype": "text/x-python",
   "name": "python",
   "nbconvert_exporter": "python",
   "pygments_lexer": "ipython3",
   "version": "3.12.11"
  }
 },
 "nbformat": 4,
 "nbformat_minor": 5
}
